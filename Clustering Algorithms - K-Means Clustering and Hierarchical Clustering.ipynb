{
 "cells": [
  {
   "cell_type": "markdown",
   "id": "b84edac9",
   "metadata": {},
   "source": [
    "<h1>Unsupervised Machine Learning - Clustering Algorithms</h1>\n",
    "<h2>K Means Clustering</h2>"
   ]
  },
  {
   "cell_type": "code",
   "execution_count": 2,
   "id": "8d2cb070",
   "metadata": {},
   "outputs": [],
   "source": [
    "from sklearn.cluster import KMeans, AgglomerativeClustering\n",
    "import pandas as pd\n",
    "import numpy as np\n",
    "import matplotlib.pyplot as plt"
   ]
  },
  {
   "cell_type": "markdown",
   "id": "4f08dfba",
   "metadata": {},
   "source": [
    "<b>Algorithm</b>\n",
    "<ol>\n",
    "    <li>Choose number of clusters to be used, $k.$</li>\n",
    "    <li>Choose $k$ points at random to be inital cluster centers.</li>\n",
    "    <li>Measure distance (by some metric, default=Euclidean) from each data point to a cluster center.</li>\n",
    "    <li>Assign to each data point the cluster center closest to it.</li>\n",
    "    <li>Calcualte the $k$ means of the data in each cluster to get new cluster locations.</li>\n",
    "    <li>If step 5 yields new clusters, repeat from step 3. Otherwise, terminate.</li>\n",
    "</ol>\n",
    "\n",
    "<b>Limitations</b>\n",
    "<ul>\n",
    "    <li>Number of clusters is to be predetermined.</li>\n",
    "    <li>Inital clustering is random.</li>\n",
    "    <li>The algoritm is sensitive to outliers.</li>\n",
    "    <li>Each data point is only assigned to one cluster.</li>\n",
    "</ul>"
   ]
  },
  {
   "cell_type": "code",
   "execution_count": 3,
   "id": "c894ba73",
   "metadata": {},
   "outputs": [],
   "source": [
    "dataset = pd.DataFrame({\n",
    "    'x': [11,21,28,17,29,33,24,45,45,52,51,52,55,53,55,61,62,70,72,10],\n",
    "    'y': [39,36,30,52,53,46,55,59,63,70,66,63,70,58,23,14,8,18,7,24]\n",
    "})"
   ]
  },
  {
   "cell_type": "code",
   "execution_count": 17,
   "id": "4fa482d6",
   "metadata": {},
   "outputs": [
    {
     "data": {
      "text/plain": [
       "KMeans(n_clusters=3)"
      ]
     },
     "execution_count": 17,
     "metadata": {},
     "output_type": "execute_result"
    }
   ],
   "source": [
    "test = KMeans(n_clusters=3)\n",
    "test.fit(dataset)"
   ]
  },
  {
   "cell_type": "code",
   "execution_count": 58,
   "id": "abc75fe3",
   "metadata": {},
   "outputs": [],
   "source": [
    "# help(test)"
   ]
  },
  {
   "cell_type": "code",
   "execution_count": 22,
   "id": "706799eb",
   "metadata": {},
   "outputs": [],
   "source": [
    "centroids, labels = test.cluster_centers_, test.labels_"
   ]
  },
  {
   "cell_type": "code",
   "execution_count": 59,
   "id": "169e8754",
   "metadata": {},
   "outputs": [
    {
     "data": {
      "text/plain": [
       "(array([[21.625     , 41.875     ],\n",
       "        [64.        , 14.        ],\n",
       "        [50.42857143, 64.14285714]]),\n",
       " array([0, 0, 0, 0, 0, 0, 0, 2, 2, 2, 2, 2, 2, 2, 1, 1, 1, 1, 1, 0],\n",
       "       dtype=int32))"
      ]
     },
     "execution_count": 59,
     "metadata": {},
     "output_type": "execute_result"
    }
   ],
   "source": [
    "centroids, labels # where cluster centers are / indices of the cluster that each data point belongs to."
   ]
  },
  {
   "cell_type": "code",
   "execution_count": 60,
   "id": "eee5d9b9",
   "metadata": {},
   "outputs": [
    {
     "data": {
      "text/plain": [
       "<matplotlib.collections.PathCollection at 0x125642640>"
      ]
     },
     "execution_count": 60,
     "metadata": {},
     "output_type": "execute_result"
    },
    {
     "data": {
      "image/png": "[encoded data removed]",
      "text/plain": [
       "<Figure size 432x288 with 1 Axes>"
      ]
     },
     "metadata": {
      "needs_background": "light"
     },
     "output_type": "display_data"
    }
   ],
   "source": [
    "plt.scatter(dataset['x'], dataset['y'], s=10)\n",
    "plt.scatter(centroids[:,0], centroids[:,1], s=100)"
   ]
  },
  {
   "cell_type": "markdown",
   "id": "f28a260f",
   "metadata": {},
   "source": [
    "<h1>Hierarchical Clustering</h1>"
   ]
  },
  {
   "cell_type": "markdown",
   "id": "f4efe8c2",
   "metadata": {},
   "source": [
    "This clustering method begins by assigning a cluster to every data point. In each iteration, the algorithm groups more clusters together based on an appropriate metric. This is repeated until a stop condition is met."
   ]
  },
  {
   "cell_type": "code",
   "execution_count": 62,
   "id": "5ef650bb",
   "metadata": {},
   "outputs": [],
   "source": [
    "cluster = AgglomerativeClustering(n_clusters=3, affinity='euclidean',linkage='ward')\n",
    "res_from_hier = cluster.fit_predict(dataset)"
   ]
  },
  {
   "cell_type": "code",
   "execution_count": 63,
   "id": "10eb5977",
   "metadata": {},
   "outputs": [
    {
     "data": {
      "text/plain": [
       "array([0, 0, 0, 0, 0, 0, 0, 0, 0, 0, 0, 0, 0, 0, 0, 0, 0, 0, 0, 0])"
      ]
     },
     "execution_count": 63,
     "metadata": {},
     "output_type": "execute_result"
    }
   ],
   "source": [
    "res_from_hier - labels"
   ]
  },
  {
   "cell_type": "markdown",
   "id": "aee12a60",
   "metadata": {},
   "source": [
    "Hierachical clustering always produces the same results on a given data set with the parameters given since it works from the bottom-up until a threshhold is met. K-means will produce different results each iteration due to the randomness of the initial clustering. Often we can run the algorithm a few times and choose the one with the lowest SSE (intertia_)."
   ]
  },
  {
   "cell_type": "code",
   "execution_count": 80,
   "id": "e8dde3e8",
   "metadata": {},
   "outputs": [],
   "source": [
    "kmean_tests = []\n",
    "aggl_clustering_tests = []\n",
    "for i in range(0,11):\n",
    "    kmean_tests.append(KMeans(n_clusters=3).fit(dataset)) \n",
    "    aggl_clustering_tests.append(AgglomerativeClustering(n_clusters=3, affinity='euclidean',linkage='ward').fit_predict(dataset))"
   ]
  },
  {
   "cell_type": "code",
   "execution_count": 90,
   "id": "8509245a",
   "metadata": {},
   "outputs": [],
   "source": [
    "# [(x.labels_, x.inertia_) for x in kmean_tests], [x for x in aggl_clustering_tests] #shows dif. results for k-means "
   ]
  },
  {
   "cell_type": "code",
   "execution_count": 93,
   "id": "eb23934c",
   "metadata": {},
   "outputs": [],
   "source": [
    "dataset['aggl_cluster']=aggl_clustering_tests[0]"
   ]
  },
  {
   "cell_type": "code",
   "execution_count": 94,
   "id": "e0f655f2",
   "metadata": {},
   "outputs": [
    {
     "data": {
      "image/png": "[encoded data removed]",
      "text/plain": [
       "<Figure size 432x288 with 1 Axes>"
      ]
     },
     "metadata": {
      "needs_background": "light"
     },
     "output_type": "display_data"
    }
   ],
   "source": [
    "colors = ['pink','red','purple']\n",
    "for i in range(0,3):\n",
    "    plt.scatter(dataset[dataset['aggl_cluster']==i]['x'],dataset[dataset['aggl_cluster']==i]['y'],color=colors[i])\n",
    "plt.show()"
   ]
  },
  {
   "cell_type": "code",
   "execution_count": null,
   "id": "b7a0b18b",
   "metadata": {},
   "outputs": [],
   "source": []
  }
 ],
 "metadata": {
  "kernelspec": {
   "display_name": "Python 3",
   "language": "python",
   "name": "python3"
  },
  "language_info": {
   "codemirror_mode": {
    "name": "ipython",
    "version": 3
   },
   "file_extension": ".py",
   "mimetype": "text/x-python",
   "name": "python",
   "nbconvert_exporter": "python",
   "pygments_lexer": "ipython3",
   "version": "3.9.0"
  }
 },
 "nbformat": 4,
 "nbformat_minor": 5
}
