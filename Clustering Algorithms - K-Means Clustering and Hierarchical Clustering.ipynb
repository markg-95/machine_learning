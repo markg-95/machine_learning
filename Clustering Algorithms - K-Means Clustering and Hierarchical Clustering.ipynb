{
 "cells": [
  {
   "cell_type": "markdown",
   "id": "b84edac9",
   "metadata": {},
   "source": [
    "<h1>K Means Clustering</h1>"
   ]
  },
  {
   "cell_type": "code",
   "execution_count": 17,
   "id": "8d2cb070",
   "metadata": {},
   "outputs": [],
   "source": [
    "from sklearn.cluster import KMeans, AgglomerativeClustering\n",
    "import pandas as pd\n",
    "import numpy as np\n",
    "import matplotlib.pyplot as plt"
   ]
  },
  {
   "cell_type": "markdown",
   "id": "4f08dfba",
   "metadata": {},
   "source": [
    "<b>Algorithm</b>\n",
    "<ol>\n",
    "    <li>Choose number of clusters to be used, $k.$</li>\n",
    "    <li>Choose $k$ points at random to be inital cluster centers.</li>\n",
    "    <li>Measure distance (by some metric, default=Euclidean) from each data point to a cluster center.</li>\n",
    "    <li>Assign to each data point the cluster center closest to it.</li>\n",
    "    <li>Calcualte the $k$ means of the data in each cluster to get new cluster locations.</li>\n",
    "    <li>If step 5 yields new clusters, repeat from step 3. Otherwise, terminate.</li>\n",
    "</ol>\n",
    "\n",
    "<b>Limitations</b>\n",
    "<ul>\n",
    "    <li>Number of clusters is to be predetermined.</li>\n",
    "    <li>Inital clustering is random.</li>\n",
    "    <li>The algoritm is sensitive to outliers.</li>\n",
    "    <li>Each data point is only assigned to one cluster.</li>\n",
    "</ul>"
   ]
  },
  {
   "cell_type": "code",
   "execution_count": 32,
   "id": "c894ba73",
   "metadata": {},
   "outputs": [],
   "source": [
    "dataset = pd.DataFrame({\n",
    "    'x': [11,21,28,17,29,33,24,45,45,52,51,52,55,53,55,61,62,70,72,10],\n",
    "    'y': [39,36,30,52,53,46,55,59,63,70,66,63,70,58,23,14,8,18,7,24]\n",
    "})"
   ]
  },
  {
   "cell_type": "code",
   "execution_count": 33,
   "id": "4fa482d6",
   "metadata": {},
   "outputs": [
    {
     "data": {
      "text/plain": [
       "KMeans(n_clusters=2)"
      ]
     },
     "execution_count": 33,
     "metadata": {},
     "output_type": "execute_result"
    }
   ],
   "source": [
    "test = KMeans(n_clusters=2)\n",
    "test.fit(dataset)"
   ]
  },
  {
   "cell_type": "code",
   "execution_count": 34,
   "id": "706799eb",
   "metadata": {},
   "outputs": [],
   "source": [
    "centroids, labels = test.cluster_centers_, test.labels_"
   ]
  },
  {
   "cell_type": "code",
   "execution_count": 35,
   "id": "169e8754",
   "metadata": {},
   "outputs": [
    {
     "data": {
      "text/plain": [
       "(array([[35.06666667, 52.26666667],\n",
       "        [64.        , 14.        ]]),\n",
       " array([0, 0, 0, 0, 0, 0, 0, 0, 0, 0, 0, 0, 0, 0, 1, 1, 1, 1, 1, 0],\n",
       "       dtype=int32))"
      ]
     },
     "execution_count": 35,
     "metadata": {},
     "output_type": "execute_result"
    }
   ],
   "source": [
    "centroids, labels"
   ]
  },
  {
   "cell_type": "code",
   "execution_count": 28,
   "id": "eee5d9b9",
   "metadata": {},
   "outputs": [
    {
     "data": {
      "text/plain": [
       "<matplotlib.collections.PathCollection at 0x121cc7910>"
      ]
     },
     "execution_count": 28,
     "metadata": {},
     "output_type": "execute_result"
    },
    {
     "data": {
      "image/png": "[encoded data removed]",
      "text/plain": [
       "<Figure size 432x288 with 1 Axes>"
      ]
     },
     "metadata": {
      "needs_background": "light"
     },
     "output_type": "display_data"
    }
   ],
   "source": [
    "plt.scatter(dataset['x'], dataset['y'], s=10)\n",
    "plt.scatter(centroids[0], centroids[1], s=100)"
   ]
  },
  {
   "cell_type": "markdown",
   "id": "f28a260f",
   "metadata": {},
   "source": [
    "<h1>Hierarchical Clustering</h1>"
   ]
  },
  {
   "cell_type": "markdown",
   "id": "f4efe8c2",
   "metadata": {},
   "source": [
    "This clustering method begins by assigning a cluster to every data point. In each iteration, the algorithm groups more clusters together based on an appropriate metric. This is repeated until a stop condition is met."
   ]
  },
  {
   "cell_type": "code",
   "execution_count": 20,
   "id": "5ef650bb",
   "metadata": {},
   "outputs": [
    {
     "data": {
      "text/plain": [
       "array([0, 0, 0, 0, 0, 0, 0, 0, 0, 0, 0, 0, 0, 0, 1, 1, 1, 1, 1, 0])"
      ]
     },
     "execution_count": 20,
     "metadata": {},
     "output_type": "execute_result"
    }
   ],
   "source": [
    "cluster = AgglomerativeClustering(n_clusters=2, affinity='euclidean',linkage='ward')\n",
    "cluster.fit_predict(dataset)"
   ]
  },
  {
   "cell_type": "code",
   "execution_count": 31,
   "id": "ac496039",
   "metadata": {},
   "outputs": [
    {
     "name": "stdout",
     "output_type": "stream",
     "text": [
      "Help on AgglomerativeClustering in module sklearn.cluster._agglomerative object:\n",
      "\n",
      "class AgglomerativeClustering(sklearn.base.ClusterMixin, sklearn.base.BaseEstimator)\n",
      " |  AgglomerativeClustering(n_clusters=2, *, affinity='euclidean', memory=None, connectivity=None, compute_full_tree='auto', linkage='ward', distance_threshold=None, compute_distances=False)\n",
      " |  \n",
      " |  Agglomerative Clustering\n",
      " |  \n",
      " |  Recursively merges the pair of clusters that minimally increases\n",
      " |  a given linkage distance.\n",
      " |  \n",
      " |  Read more in the :ref:`User Guide <hierarchical_clustering>`.\n",
      " |  \n",
      " |  Parameters\n",
      " |  ----------\n",
      " |  n_clusters : int or None, default=2\n",
      " |      The number of clusters to find. It must be ``None`` if\n",
      " |      ``distance_threshold`` is not ``None``.\n",
      " |  \n",
      " |  affinity : str or callable, default='euclidean'\n",
      " |      Metric used to compute the linkage. Can be \"euclidean\", \"l1\", \"l2\",\n",
      " |      \"manhattan\", \"cosine\", or \"precomputed\".\n",
      " |      If linkage is \"ward\", only \"euclidean\" is accepted.\n",
      " |      If \"precomputed\", a distance matrix (instead of a similarity matrix)\n",
      " |      is needed as input for the fit method.\n",
      " |  \n",
      " |  memory : str or object with the joblib.Memory interface, default=None\n",
      " |      Used to cache the output of the computation of the tree.\n",
      " |      By default, no caching is done. If a string is given, it is the\n",
      " |      path to the caching directory.\n",
      " |  \n",
      " |  connectivity : array-like or callable, default=None\n",
      " |      Connectivity matrix. Defines for each sample the neighboring\n",
      " |      samples following a given structure of the data.\n",
      " |      This can be a connectivity matrix itself or a callable that transforms\n",
      " |      the data into a connectivity matrix, such as derived from\n",
      " |      kneighbors_graph. Default is ``None``, i.e, the\n",
      " |      hierarchical clustering algorithm is unstructured.\n",
      " |  \n",
      " |  compute_full_tree : 'auto' or bool, default='auto'\n",
      " |      Stop early the construction of the tree at ``n_clusters``. This is\n",
      " |      useful to decrease computation time if the number of clusters is not\n",
      " |      small compared to the number of samples. This option is useful only\n",
      " |      when specifying a connectivity matrix. Note also that when varying the\n",
      " |      number of clusters and using caching, it may be advantageous to compute\n",
      " |      the full tree. It must be ``True`` if ``distance_threshold`` is not\n",
      " |      ``None``. By default `compute_full_tree` is \"auto\", which is equivalent\n",
      " |      to `True` when `distance_threshold` is not `None` or that `n_clusters`\n",
      " |      is inferior to the maximum between 100 or `0.02 * n_samples`.\n",
      " |      Otherwise, \"auto\" is equivalent to `False`.\n",
      " |  \n",
      " |  linkage : {'ward', 'complete', 'average', 'single'}, default='ward'\n",
      " |      Which linkage criterion to use. The linkage criterion determines which\n",
      " |      distance to use between sets of observation. The algorithm will merge\n",
      " |      the pairs of cluster that minimize this criterion.\n",
      " |  \n",
      " |      - 'ward' minimizes the variance of the clusters being merged.\n",
      " |      - 'average' uses the average of the distances of each observation of\n",
      " |        the two sets.\n",
      " |      - 'complete' or 'maximum' linkage uses the maximum distances between\n",
      " |        all observations of the two sets.\n",
      " |      - 'single' uses the minimum of the distances between all observations\n",
      " |        of the two sets.\n",
      " |  \n",
      " |      .. versionadded:: 0.20\n",
      " |          Added the 'single' option\n",
      " |  \n",
      " |  distance_threshold : float, default=None\n",
      " |      The linkage distance threshold above which, clusters will not be\n",
      " |      merged. If not ``None``, ``n_clusters`` must be ``None`` and\n",
      " |      ``compute_full_tree`` must be ``True``.\n",
      " |  \n",
      " |      .. versionadded:: 0.21\n",
      " |  \n",
      " |  compute_distances : bool, default=False\n",
      " |      Computes distances between clusters even if `distance_threshold` is not\n",
      " |      used. This can be used to make dendrogram visualization, but introduces\n",
      " |      a computational and memory overhead.\n",
      " |  \n",
      " |      .. versionadded:: 0.24\n",
      " |  \n",
      " |  Attributes\n",
      " |  ----------\n",
      " |  n_clusters_ : int\n",
      " |      The number of clusters found by the algorithm. If\n",
      " |      ``distance_threshold=None``, it will be equal to the given\n",
      " |      ``n_clusters``.\n",
      " |  \n",
      " |  labels_ : ndarray of shape (n_samples)\n",
      " |      cluster labels for each point\n",
      " |  \n",
      " |  n_leaves_ : int\n",
      " |      Number of leaves in the hierarchical tree.\n",
      " |  \n",
      " |  n_connected_components_ : int\n",
      " |      The estimated number of connected components in the graph.\n",
      " |  \n",
      " |      .. versionadded:: 0.21\n",
      " |          ``n_connected_components_`` was added to replace ``n_components_``.\n",
      " |  \n",
      " |  children_ : array-like of shape (n_samples-1, 2)\n",
      " |      The children of each non-leaf node. Values less than `n_samples`\n",
      " |      correspond to leaves of the tree which are the original samples.\n",
      " |      A node `i` greater than or equal to `n_samples` is a non-leaf\n",
      " |      node and has children `children_[i - n_samples]`. Alternatively\n",
      " |      at the i-th iteration, children[i][0] and children[i][1]\n",
      " |      are merged to form node `n_samples + i`\n",
      " |  \n",
      " |  distances_ : array-like of shape (n_nodes-1,)\n",
      " |      Distances between nodes in the corresponding place in `children_`.\n",
      " |      Only computed if `distance_threshold` is used or `compute_distances`\n",
      " |      is set to `True`.\n",
      " |  \n",
      " |  Examples\n",
      " |  --------\n",
      " |  >>> from sklearn.cluster import AgglomerativeClustering\n",
      " |  >>> import numpy as np\n",
      " |  >>> X = np.array([[1, 2], [1, 4], [1, 0],\n",
      " |  ...               [4, 2], [4, 4], [4, 0]])\n",
      " |  >>> clustering = AgglomerativeClustering().fit(X)\n",
      " |  >>> clustering\n",
      " |  AgglomerativeClustering()\n",
      " |  >>> clustering.labels_\n",
      " |  array([1, 1, 1, 0, 0, 0])\n",
      " |  \n",
      " |  Method resolution order:\n",
      " |      AgglomerativeClustering\n",
      " |      sklearn.base.ClusterMixin\n",
      " |      sklearn.base.BaseEstimator\n",
      " |      builtins.object\n",
      " |  \n",
      " |  Methods defined here:\n",
      " |  \n",
      " |  __init__(self, n_clusters=2, *, affinity='euclidean', memory=None, connectivity=None, compute_full_tree='auto', linkage='ward', distance_threshold=None, compute_distances=False)\n",
      " |      Initialize self.  See help(type(self)) for accurate signature.\n",
      " |  \n",
      " |  fit(self, X, y=None)\n",
      " |      Fit the hierarchical clustering from features, or distance matrix.\n",
      " |      \n",
      " |      Parameters\n",
      " |      ----------\n",
      " |      X : array-like, shape (n_samples, n_features) or (n_samples, n_samples)\n",
      " |          Training instances to cluster, or distances between instances if\n",
      " |          ``affinity='precomputed'``.\n",
      " |      \n",
      " |      y : Ignored\n",
      " |          Not used, present here for API consistency by convention.\n",
      " |      \n",
      " |      Returns\n",
      " |      -------\n",
      " |      self\n",
      " |  \n",
      " |  fit_predict(self, X, y=None)\n",
      " |      Fit the hierarchical clustering from features or distance matrix,\n",
      " |      and return cluster labels.\n",
      " |      \n",
      " |      Parameters\n",
      " |      ----------\n",
      " |      X : array-like of shape (n_samples, n_features) or                 (n_samples, n_samples)\n",
      " |          Training instances to cluster, or distances between instances if\n",
      " |          ``affinity='precomputed'``.\n",
      " |      \n",
      " |      y : Ignored\n",
      " |          Not used, present here for API consistency by convention.\n",
      " |      \n",
      " |      Returns\n",
      " |      -------\n",
      " |      labels : ndarray of shape (n_samples,)\n",
      " |          Cluster labels.\n",
      " |  \n",
      " |  ----------------------------------------------------------------------\n",
      " |  Data descriptors inherited from sklearn.base.ClusterMixin:\n",
      " |  \n",
      " |  __dict__\n",
      " |      dictionary for instance variables (if defined)\n",
      " |  \n",
      " |  __weakref__\n",
      " |      list of weak references to the object (if defined)\n",
      " |  \n",
      " |  ----------------------------------------------------------------------\n",
      " |  Methods inherited from sklearn.base.BaseEstimator:\n",
      " |  \n",
      " |  __getstate__(self)\n",
      " |  \n",
      " |  __repr__(self, N_CHAR_MAX=700)\n",
      " |      Return repr(self).\n",
      " |  \n",
      " |  __setstate__(self, state)\n",
      " |  \n",
      " |  get_params(self, deep=True)\n",
      " |      Get parameters for this estimator.\n",
      " |      \n",
      " |      Parameters\n",
      " |      ----------\n",
      " |      deep : bool, default=True\n",
      " |          If True, will return the parameters for this estimator and\n",
      " |          contained subobjects that are estimators.\n",
      " |      \n",
      " |      Returns\n",
      " |      -------\n",
      " |      params : dict\n",
      " |          Parameter names mapped to their values.\n",
      " |  \n",
      " |  set_params(self, **params)\n",
      " |      Set the parameters of this estimator.\n",
      " |      \n",
      " |      The method works on simple estimators as well as on nested objects\n",
      " |      (such as :class:`~sklearn.pipeline.Pipeline`). The latter have\n",
      " |      parameters of the form ``<component>__<parameter>`` so that it's\n",
      " |      possible to update each component of a nested object.\n",
      " |      \n",
      " |      Parameters\n",
      " |      ----------\n",
      " |      **params : dict\n",
      " |          Estimator parameters.\n",
      " |      \n",
      " |      Returns\n",
      " |      -------\n",
      " |      self : estimator instance\n",
      " |          Estimator instance.\n",
      "\n"
     ]
    }
   ],
   "source": [
    "help(cluster)"
   ]
  },
  {
   "cell_type": "code",
   "execution_count": null,
   "id": "9dd970aa",
   "metadata": {},
   "outputs": [],
   "source": []
  }
 ],
 "metadata": {
  "kernelspec": {
   "display_name": "Python 3",
   "language": "python",
   "name": "python3"
  },
  "language_info": {
   "codemirror_mode": {
    "name": "ipython",
    "version": 3
   },
   "file_extension": ".py",
   "mimetype": "text/x-python",
   "name": "python",
   "nbconvert_exporter": "python",
   "pygments_lexer": "ipython3",
   "version": "3.9.0"
  }
 },
 "nbformat": 4,
 "nbformat_minor": 5
}
